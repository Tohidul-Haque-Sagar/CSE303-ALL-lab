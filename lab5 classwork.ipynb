{
 "cells": [
  {
   "cell_type": "code",
   "execution_count": 1,
   "metadata": {},
   "outputs": [],
   "source": [
    "#First look into Numpy"
   ]
  },
  {
   "cell_type": "code",
   "execution_count": 2,
   "metadata": {},
   "outputs": [
    {
     "name": "stdout",
     "output_type": "stream",
     "text": [
      "[20.1, 20.8, 21.9, 22.5, 22.7, 22.3, 21.8, 21.2, 20.9, 20.1]\n",
      "<class 'list'>\n",
      "[20.1 20.8 21.9 22.5 22.7 22.3 21.8 21.2 20.9 20.1]\n",
      "<class 'numpy.ndarray'>\n"
     ]
    }
   ],
   "source": [
    "import numpy as np\n",
    "# create a Python list of temperature in degree celcius\n",
    "cvalues = [20.1, 20.8, 21.9, 22.5, 22.7, 22.3, 21.8, 21.2, 20.9,\n",
    "20.1]\n",
    "# converting this list into one-dimensional Numpy array\n",
    "C = np.array(cvalues)\n",
    "print(cvalues)\n",
    "print(type(cvalues))\n",
    "print(C)\n",
    "print(type(C))"
   ]
  },
  {
   "cell_type": "code",
   "execution_count": 5,
   "metadata": {},
   "outputs": [
    {
     "name": "stdout",
     "output_type": "stream",
     "text": [
      "[[46.4 50.  53.6]\n",
      " [57.2 60.8 64.4]]\n",
      "[[1 2 3]\n",
      " [4 5 6]]\n",
      "(2, 3)\n",
      "[[ 7  8  9]\n",
      " [10 11 12]]\n",
      "(2, 3)\n",
      "[[ 8 10 12]\n",
      " [14 16 18]]\n",
      "(2, 3)\n"
     ]
    }
   ],
   "source": [
    "#Element-wise Operations in Numpy (Scalar Operations)\n",
    "F = C * 9/5 + 32\n",
    "print(F)\n",
    "# A few other examples of scalar operations\n",
    "A = np.array([[1,2,3],[4,5,6]])\n",
    "print(A)\n",
    "print(A.shape)\n",
    "B = np.array([[7,8,9],[10,11,12]])\n",
    "print(B)\n",
    "print(B.shape)\n",
    "C = A + B\n",
    "print(C)\n",
    "print(C.shape)"
   ]
  },
  {
   "cell_type": "code",
   "execution_count": 6,
   "metadata": {},
   "outputs": [
    {
     "name": "stdout",
     "output_type": "stream",
     "text": [
      "[[ 1  2]\n",
      " [ 5  6]\n",
      " [ 9 10]]\n",
      "1\n",
      "[[ 1  2  3  4]\n",
      " [ 5  6  7  8]\n",
      " [ 9 10 11 12]]\n"
     ]
    }
   ],
   "source": [
    "#Array Indexing\n",
    "a = np.array([[1,2,3,4], [5,6,7,8], [9,10,11,12]])\n",
    "b = a[:,0:2]\n",
    "print(b)\n",
    "print(a[0,0])\n",
    "print(a)"
   ]
  },
  {
   "cell_type": "code",
   "execution_count": 7,
   "metadata": {},
   "outputs": [
    {
     "name": "stdout",
     "output_type": "stream",
     "text": [
      "[[False False]\n",
      " [ True  True]\n",
      " [ True  True]]\n",
      "[3 4 5 6]\n",
      "[3 4 5 6]\n"
     ]
    }
   ],
   "source": [
    "#Boolean Array Indexing (for Filtering)\n",
    "a = np.array([[1,2], [3, 4], [5, 6]])\n",
    "bool_idx = (a > 2)\n",
    "print(bool_idx)\n",
    "print(a[bool_idx])\n",
    "# We can do all of the above in a single concise statement:\n",
    "print(a[a > 2]) # Prints \"[3 4 5 6]\""
   ]
  },
  {
   "cell_type": "code",
   "execution_count": 8,
   "metadata": {},
   "outputs": [
    {
     "name": "stdout",
     "output_type": "stream",
     "text": [
      "[[ 6.  8.]\n",
      " [10. 12.]]\n",
      "[[ 6.  8.]\n",
      " [10. 12.]]\n",
      "[[-4. -4.]\n",
      " [-4. -4.]]\n",
      "[[-4. -4.]\n",
      " [-4. -4.]]\n",
      "[[ 5. 12.]\n",
      " [21. 32.]]\n",
      "[[ 5. 12.]\n",
      " [21. 32.]]\n",
      "[[0.2        0.33333333]\n",
      " [0.42857143 0.5       ]]\n",
      "[[0.2        0.33333333]\n",
      " [0.42857143 0.5       ]]\n",
      "[[1.         1.41421356]\n",
      " [1.73205081 2.        ]]\n"
     ]
    }
   ],
   "source": [
    "#Numpy Simple Math\n",
    "x = np.array([[1,2],[3,4]], dtype=np.float64)\n",
    "y = np.array([[5,6],[7,8]], dtype=np.float64)\n",
    "# Elementwise sum\n",
    "print(x + y)\n",
    "print(np.add(x, y))\n",
    "# Elementwise difference\n",
    "print(x - y)\n",
    "print(np.subtract(x, y))\n",
    "# Elementwise product\n",
    "print(x * y)\n",
    "print(np.multiply(x, y))\n",
    "# Elementwise division\n",
    "print(x / y)\n",
    "print(np.divide(x, y))\n",
    "# Elementwise square root\n",
    "print(np.sqrt(x))"
   ]
  },
  {
   "cell_type": "code",
   "execution_count": 9,
   "metadata": {},
   "outputs": [
    {
     "name": "stdout",
     "output_type": "stream",
     "text": [
      "219\n",
      "219\n",
      "[29. 67.]\n",
      "[29. 67.]\n",
      "[[19. 22.]\n",
      " [43. 50.]]\n",
      "[[19. 22.]\n",
      " [43. 50.]]\n"
     ]
    }
   ],
   "source": [
    "#Numpy Dot product and Vector and Matrix Multiplication\n",
    "x = np.array([[1,2],[3,4]], dtype=np.float64)\n",
    "y = np.array([[5,6],[7,8]], dtype=np.float64)\n",
    "v = np.array([9,10])\n",
    "w = np.array([11, 12])\n",
    "# Inner product of vectors\n",
    "print(v.dot(w))\n",
    "print(np.dot(v, w))\n",
    "# Matrix / vector product\n",
    "print(x.dot(v))\n",
    "print(np.dot(x, v))\n",
    "# Matrix / matrix product\n",
    "print(x.dot(y))\n",
    "print(np.dot(x, y))"
   ]
  },
  {
   "cell_type": "code",
   "execution_count": 10,
   "metadata": {},
   "outputs": [
    {
     "name": "stdout",
     "output_type": "stream",
     "text": [
      "10\n",
      "[4 6]\n",
      "[3 7]\n"
     ]
    }
   ],
   "source": [
    "#Numpy Mathematical Functions\n",
    "x = np.array([[1,2],[3,4]])\n",
    "print(np.sum(x)) # Compute sum of all elements\n",
    "print(np.sum(x, axis=0)) # Compute sum of each column\n",
    "print(np.sum(x, axis=1)) # Compute sum of each row"
   ]
  },
  {
   "cell_type": "code",
   "execution_count": 11,
   "metadata": {},
   "outputs": [
    {
     "name": "stdout",
     "output_type": "stream",
     "text": [
      "0.5\n",
      "[[0 1]\n",
      " [2 3]\n",
      " [4 5]]\n",
      "[2. 3.]\n",
      "[0.5 2.5 4.5]\n"
     ]
    }
   ],
   "source": [
    "#Numpy Statistical Functions\n",
    "data1 = np.arange(1.5)\n",
    "print(np.average(data1))\n",
    "data2 = np.arange(6).reshape(3,2)\n",
    "print(data2)\n",
    "print(np.average(data2, axis = 0))\n",
    "print(np.average(data2, axis = 1))"
   ]
  },
  {
   "cell_type": "code",
   "execution_count": 14,
   "metadata": {},
   "outputs": [],
   "source": [
    "#Broadcasting (Adding a constant vector to each row of a matrix)\n",
    "x = np.array([[1,2,3], [4,5,6], [7,8,9], [10, 11, 12]])\n",
    "v = np.array([1, 0, 1])\n",
    "y = np.empty_like(x)\n",
    "# Add the vector v to each row of the matrix x with an explicit loop\n",
    "for i in range(4):\n",
    "    y[i, :] = x[i, :] + v\n"
   ]
  },
  {
   "cell_type": "code",
   "execution_count": 15,
   "metadata": {},
   "outputs": [
    {
     "name": "stdout",
     "output_type": "stream",
     "text": [
      "[[ 2  2  4]\n",
      " [ 5  5  7]\n",
      " [ 8  8 10]\n",
      " [11 11 13]]\n"
     ]
    }
   ],
   "source": [
    "x = np.array([[1,2,3], [4,5,6], [7,8,9], [10, 11, 12]])\n",
    "v = np.array([1, 0, 1])\n",
    "vv = np.tile(v, (4, 1))\n",
    "y = x + vv\n",
    "print(y)"
   ]
  },
  {
   "cell_type": "code",
   "execution_count": 16,
   "metadata": {},
   "outputs": [
    {
     "name": "stdout",
     "output_type": "stream",
     "text": [
      "[[ 2  2  4]\n",
      " [ 5  5  7]\n",
      " [ 8  8 10]\n",
      " [11 11 13]]\n"
     ]
    }
   ],
   "source": [
    "#Using Broadcasting\n",
    "x = np.array([[1,2,3], [4,5,6], [7,8,9], [10, 11, 12]])\n",
    "v = np.array([1, 0, 1])\n",
    "y = x + v # Add v to each row of x using broadcasting\n",
    "print(y)"
   ]
  },
  {
   "cell_type": "code",
   "execution_count": 18,
   "metadata": {},
   "outputs": [],
   "source": [
    "#Some special Numpy Arrays\n",
    "np.zeros(5)\n",
    "np.zeros((2,3))\n",
    "np.random.rand(2,3)\n",
    "np.full((2,2),7)\n",
    "np.eye(3)\n",
    "np.arange(2,10,2)\n",
    "np.linspace(0,1,5)\n",
    "a = np.array([3,6,9,12])\n",
    "np.reshape(a,(2,2))\n",
    "a = np.ones((2,2))\n",
    "b = a.flatten()\n",
    "a = np.array([[1,2,3],\n",
    "[4,5,6]])\n",
    "b = np.transpose(a)"
   ]
  },
  {
   "cell_type": "code",
   "execution_count": 19,
   "metadata": {},
   "outputs": [
    {
     "data": {
      "image/png": "[encoded data removed]",
      "text/plain": [
       "<Figure size 432x288 with 1 Axes>"
      ]
     },
     "metadata": {
      "needs_background": "light"
     },
     "output_type": "display_data"
    }
   ],
   "source": [
    "# Basic Plotting\n",
    "import matplotlib.pyplot as plt\n",
    "# x axis values\n",
    "x = np.array([1,2,3])\n",
    "# corresponding y axis values\n",
    "y = np.array([2,4,1])\n",
    "# plotting the points\n",
    "plt.plot(x, y)\n",
    "# naming the x axis\n",
    "plt.xlabel('x - axis')\n",
    "# naming the y axis\n",
    "plt.ylabel('y - axis')\n",
    "# giving a title to my graph\n",
    "plt.title('My first graph!')\n",
    "# function to show the plot\n",
    "plt.show()"
   ]
  },
  {
   "cell_type": "code",
   "execution_count": 20,
   "metadata": {},
   "outputs": [
    {
     "data": {
      "image/png": "[encoded data removed]",
      "text/plain": [
       "<Figure size 432x288 with 1 Axes>"
      ]
     },
     "metadata": {
      "needs_background": "light"
     },
     "output_type": "display_data"
    }
   ],
   "source": [
    "import matplotlib.pyplot as plt\n",
    "# x-coordinates of left sides of bars\n",
    "left = [1, 2, 3, 4, 5]\n",
    "# heights of bars\n",
    "height = [10, 24, 36, 40, 5]\n",
    "# labels for bars\n",
    "tick_label = ['one', 'two', 'three', 'four', 'five']\n",
    "# plotting a bar chart\n",
    "plt.bar(left, height, tick_label = tick_label, width = 0.8, color =\n",
    "['red', 'green'])\n",
    "# naming the x-axis\n",
    "plt.xlabel('x - axis')\n",
    "# naming the y-axis\n",
    "plt.ylabel('y - axis')\n",
    "# plot title\n",
    "plt.title('My bar chart!')\n",
    "# function to show the plot\n",
    "plt.show()"
   ]
  },
  {
   "cell_type": "code",
   "execution_count": 21,
   "metadata": {},
   "outputs": [],
   "source": [
    "import numpy as np"
   ]
  },
  {
   "cell_type": "code",
   "execution_count": 25,
   "metadata": {},
   "outputs": [
    {
     "name": "stdout",
     "output_type": "stream",
     "text": [
      "[1 2 3 4 5 6]\n",
      "[10 20 30 40 50 60]\n",
      "[11 22 33 44 55 66]\n"
     ]
    }
   ],
   "source": [
    "A = np.array([1,2,3,4,5,6])\n",
    "print(A)\n",
    "\n",
    "B = np.array([10,20,30,40,50,60])\n",
    "print(B)\n",
    "\n",
    "print(A+B)\n",
    "#print(A-B)"
   ]
  },
  {
   "cell_type": "code",
   "execution_count": 26,
   "metadata": {},
   "outputs": [
    {
     "name": "stdout",
     "output_type": "stream",
     "text": [
      "[1, 2, 3, 4, 5, 6]\n",
      "[10, 20, 30, 40, 50, 60]\n",
      "[1, 2, 3, 4, 5, 6, 10, 20, 30, 40, 50, 60]\n"
     ]
    }
   ],
   "source": [
    "list1 = [1,2,3,4,5,6]\n",
    "print(list1)\n",
    "list2 = [10,20,30,40,50,60]\n",
    "print(list2)\n",
    "print(list1+list2)\n",
    "#print(list1-list2)"
   ]
  },
  {
   "cell_type": "code",
   "execution_count": 27,
   "metadata": {},
   "outputs": [
    {
     "name": "stdout",
     "output_type": "stream",
     "text": [
      "[50.  59.  68.9 86.  98.6]\n"
     ]
    }
   ],
   "source": [
    "temp = np.array([10, 15, 20.5, 30, 37])\n",
    "\n",
    "temp_fahrenheit = temp * 1.8 + 32\n",
    "\n",
    "print(temp_fahrenheit)"
   ]
  },
  {
   "cell_type": "code",
   "execution_count": 28,
   "metadata": {},
   "outputs": [
    {
     "name": "stdout",
     "output_type": "stream",
     "text": [
      "(6,)\n"
     ]
    }
   ],
   "source": [
    "print(A.shape)"
   ]
  },
  {
   "cell_type": "code",
   "execution_count": 29,
   "metadata": {},
   "outputs": [
    {
     "name": "stdout",
     "output_type": "stream",
     "text": [
      "[[1 2 3]\n",
      " [4 5 6]]\n",
      "[[7 8 9]\n",
      " [3 4 5]]\n",
      "(2, 3)\n"
     ]
    }
   ],
   "source": [
    "M1 = np.array([[1,2,3],[4,5,6]]) \n",
    "# 1 2 3\n",
    "# 4 5 6\n",
    "M2 = np.array([[7,8,9],[3,4,5]])\n",
    "# 7 8 9\n",
    "# 3 4 5\n",
    "\n",
    "print(M1)\n",
    "print(M2)\n",
    "print(M1.shape)"
   ]
  },
  {
   "cell_type": "code",
   "execution_count": 30,
   "metadata": {},
   "outputs": [
    {
     "name": "stdout",
     "output_type": "stream",
     "text": [
      "[[ 8 10 12]\n",
      " [ 7  9 11]]\n",
      "[[-6 -6 -6]\n",
      " [ 1  1  1]]\n",
      "[[ 7 16 27]\n",
      " [12 20 30]]\n",
      "[[0.14285714 0.25       0.33333333]\n",
      " [1.33333333 1.25       1.2       ]]\n"
     ]
    }
   ],
   "source": [
    "M3 = M1+M2\n",
    "M4 = M1-M2\n",
    "M5 = M1*M2 #scalar multiplication\n",
    "M6 = M1/M2\n",
    "\n",
    "print(M3)\n",
    "\n",
    "print(M4)\n",
    "\n",
    "print(M5)\n",
    "\n",
    "print(M6)"
   ]
  },
  {
   "cell_type": "code",
   "execution_count": 31,
   "metadata": {},
   "outputs": [
    {
     "name": "stdout",
     "output_type": "stream",
     "text": [
      "[[1 2]\n",
      " [4 5]\n",
      " [7 8]]\n"
     ]
    }
   ],
   "source": [
    "M1 = np.array([[1,2,3],[4,5,6],[7,8,9]]) \n",
    "\n",
    "M7 = M1[:,0:2]\n",
    "\n",
    "print(M7)"
   ]
  },
  {
   "cell_type": "code",
   "execution_count": 32,
   "metadata": {},
   "outputs": [
    {
     "name": "stdout",
     "output_type": "stream",
     "text": [
      "[8 9]\n"
     ]
    }
   ],
   "source": [
    "# slice the last rows with last two columns\n",
    "\n",
    "\n",
    "M8 = M1[-1,-2:]\n",
    "print(M8)\n"
   ]
  },
  {
   "cell_type": "code",
   "execution_count": 33,
   "metadata": {},
   "outputs": [
    {
     "name": "stdout",
     "output_type": "stream",
     "text": [
      "[[False  True False  True]\n",
      " [ True False False  True]\n",
      " [ True False  True False]]\n"
     ]
    }
   ],
   "source": [
    "M9 = np.array([[1,2,3,4],[56, 43, 23, 78],\n",
    "               [100, 101, 102, 103]])\n",
    "#   1   2   3   4\n",
    "#  56  43  23  78\n",
    "# 100 101 102 103\n",
    "\n",
    "bool_idx = (M9%2==0)\n",
    "\n",
    "print(bool_idx)"
   ]
  },
  {
   "cell_type": "code",
   "execution_count": 34,
   "metadata": {},
   "outputs": [
    {
     "name": "stdout",
     "output_type": "stream",
     "text": [
      "[  2   4  56  78 100 102]\n"
     ]
    }
   ],
   "source": [
    "print(M9[bool_idx])"
   ]
  },
  {
   "cell_type": "code",
   "execution_count": 35,
   "metadata": {},
   "outputs": [
    {
     "name": "stdout",
     "output_type": "stream",
     "text": [
      "[[0 0 0]\n",
      " [0 0 0]\n",
      " [0 0 0]]\n",
      "[[ 2  4  6]\n",
      " [ 8 10 12]\n",
      " [14 16 18]]\n",
      "[[ -1  -4  -9]\n",
      " [-16 -25 -36]\n",
      " [-49 -64 -81]]\n",
      "[[-1. -1. -1.]\n",
      " [-1. -1. -1.]\n",
      " [-1. -1. -1.]]\n",
      "[[1.         1.41421356 1.73205081]\n",
      " [2.         2.23606798 2.44948974]\n",
      " [2.64575131 2.82842712 3.        ]]\n"
     ]
    }
   ],
   "source": [
    "M1 = np.array([[1,2,3],[4,5,6],[7,8,9]]) \n",
    "\n",
    "M2 = np.array([[-1,-2,-3],[-4,-5,-6],[-7,-8,-9]])\n",
    "print(np.add(M1, M2))\n",
    "\n",
    "print(np.subtract(M1, M2))\n",
    "\n",
    "print(np.multiply(M1, M2))\n",
    "\n",
    "print(np.divide(M1, M2))\n",
    "\n",
    "print(np.sqrt(M1))"
   ]
  },
  {
   "cell_type": "code",
   "execution_count": 36,
   "metadata": {},
   "outputs": [
    {
     "name": "stdout",
     "output_type": "stream",
     "text": [
      "[[19 22]\n",
      " [43 50]]\n"
     ]
    }
   ],
   "source": [
    "x = np.array([[1,2],[3,4]])\n",
    "# 1 2       5 6\n",
    "# 3 4       7 8\n",
    "\n",
    "# 1.5+2.7   1.6+2.8     19  22   \n",
    "# 3.5+4.7   3.6+4.8     43  50\n",
    "\n",
    "y = np.array([[5,6],[7,8]])\n",
    "\n",
    "print(x.dot(y))"
   ]
  },
  {
   "cell_type": "code",
   "execution_count": 37,
   "metadata": {},
   "outputs": [
    {
     "name": "stdout",
     "output_type": "stream",
     "text": [
      "[[19 22]\n",
      " [43 50]]\n",
      "[[19 22]\n",
      " [43 50]]\n",
      "[[19 22]\n",
      " [43 50]]\n"
     ]
    }
   ],
   "source": [
    "print(np.dot(x,y))\n",
    "print(x@y)\n",
    "print(np.matmul(x,y))\n"
   ]
  },
  {
   "cell_type": "code",
   "execution_count": 39,
   "metadata": {},
   "outputs": [
    {
     "name": "stdout",
     "output_type": "stream",
     "text": [
      "-1\n"
     ]
    }
   ],
   "source": [
    "# Write your own Python code (without using any numpy function)\n",
    "# performing Matrix-Matrix multiplication)\n",
    "v1 = np.array([1,2,3]) # i+2j+3k\n",
    "v2 = np.array([-1,3,-2]) # -i+3j-2k\n",
    "\n",
    "# 1.-1+2.3-3.2 = -1\n",
    "\n",
    "print(np.dot(v1, v2))"
   ]
  },
  {
   "cell_type": "code",
   "execution_count": 40,
   "metadata": {},
   "outputs": [
    {
     "name": "stdout",
     "output_type": "stream",
     "text": [
      "[22 28]\n"
     ]
    }
   ],
   "source": [
    "x = np.array([[1,2],[3,4],[5,6]]) # shape(3, 2)\n",
    "# 1 2  \n",
    "# 3 4\n",
    "# 5 6 \n",
    "\n",
    "# 1 3 5     # 1 2 3     1.1+3.2+5.3 = 22\n",
    "# 2 4 6                 2.1+4.2+6.3 = 28\n",
    "   \n",
    "v1 = np.array([1,2,3])  #shape(3,) here 3 is no. of col\n",
    "# print(x.shape)\n",
    "# print(v1.shape)\n",
    "print(np.dot(np.transpose(x),v1))"
   ]
  },
  {
   "cell_type": "code",
   "execution_count": 41,
   "metadata": {},
   "outputs": [
    {
     "name": "stdout",
     "output_type": "stream",
     "text": [
      "[0 1 2 3 4 5 6 7 8 9]\n",
      "4.5\n",
      "[[ 0  1  2]\n",
      " [ 3  4  5]\n",
      " [ 6  7  8]\n",
      " [ 9 10 11]]\n"
     ]
    }
   ],
   "source": [
    "data1 = np.arange(10)\n",
    "print(data1)\n",
    "print(np.average(data1))\n"
   ]
  },
  {
   "cell_type": "code",
   "execution_count": 42,
   "metadata": {},
   "outputs": [
    {
     "name": "stdout",
     "output_type": "stream",
     "text": [
      "[[ 0  1  2]\n",
      " [ 3  4  5]\n",
      " [ 6  7  8]\n",
      " [ 9 10 11]]\n"
     ]
    }
   ],
   "source": [
    "data2 = np.arange(12).reshape(4,3)\n",
    "print(data2)"
   ]
  },
  {
   "cell_type": "code",
   "execution_count": 44,
   "metadata": {},
   "outputs": [
    {
     "name": "stdout",
     "output_type": "stream",
     "text": [
      "[4.5 5.5 6.5]\n",
      "[ 1.  4.  7. 10.]\n"
     ]
    }
   ],
   "source": [
    "print(np.average(data2, axis = 0))\n",
    "print(np.average(data2, axis = 1))"
   ]
  },
  {
   "cell_type": "code",
   "execution_count": 45,
   "metadata": {},
   "outputs": [
    {
     "name": "stdout",
     "output_type": "stream",
     "text": [
      "66\n"
     ]
    }
   ],
   "source": [
    "print(np.sum(data2))"
   ]
  },
  {
   "cell_type": "code",
   "execution_count": 46,
   "metadata": {},
   "outputs": [
    {
     "name": "stdout",
     "output_type": "stream",
     "text": [
      "[18 22 26]\n",
      "[ 3 12 21 30]\n"
     ]
    }
   ],
   "source": [
    "print(np.sum(data2, axis = 0)) # col-wise\n",
    "print(np.sum(data2, axis = 1)) # row-wise"
   ]
  },
  {
   "cell_type": "code",
   "execution_count": 47,
   "metadata": {},
   "outputs": [
    {
     "name": "stdout",
     "output_type": "stream",
     "text": [
      "[[0. 0. 0.]\n",
      " [0. 0. 0.]\n",
      " [0. 0. 0.]]\n"
     ]
    }
   ],
   "source": [
    "M11 = np.zeros((3,3))\n",
    "print(M11)"
   ]
  },
  {
   "cell_type": "code",
   "execution_count": 48,
   "metadata": {},
   "outputs": [
    {
     "name": "stdout",
     "output_type": "stream",
     "text": [
      "[[0.49389607 0.3729128  0.42700296]\n",
      " [0.8992069  0.87176836 0.62721423]\n",
      " [0.79273656 0.02225976 0.54968206]]\n"
     ]
    }
   ],
   "source": [
    "M12 = np.random.rand(3,3)\n",
    "print(M12)\n"
   ]
  },
  {
   "cell_type": "code",
   "execution_count": 49,
   "metadata": {},
   "outputs": [
    {
     "name": "stdout",
     "output_type": "stream",
     "text": [
      "[[ 0. 10. 20. 30. 40.]\n",
      " [50. 60. 70. 80. 90.]]\n"
     ]
    }
   ],
   "source": [
    "M13 = np.linspace(0, 90, 10).reshape(2, 5)\n",
    "print(M13)"
   ]
  },
  {
   "cell_type": "code",
   "execution_count": 50,
   "metadata": {},
   "outputs": [
    {
     "name": "stdout",
     "output_type": "stream",
     "text": [
      "[[1. 0. 0. 0.]\n",
      " [0. 1. 0. 0.]\n",
      " [0. 0. 1. 0.]\n",
      " [0. 0. 0. 1.]]\n"
     ]
    }
   ],
   "source": [
    "M14 = np.eye(4)\n",
    "print(M14)"
   ]
  },
  {
   "cell_type": "code",
   "execution_count": 51,
   "metadata": {},
   "outputs": [
    {
     "name": "stdout",
     "output_type": "stream",
     "text": [
      "[[ 0  1  2]\n",
      " [ 3  4  5]\n",
      " [ 6  7  8]\n",
      " [ 9 10 11]]\n",
      "[[10 21 32]\n",
      " [13 24 35]\n",
      " [16 27 38]\n",
      " [19 30 41]]\n"
     ]
    }
   ],
   "source": [
    "data2 = np.arange(12).reshape(4,3)\n",
    "print(data2)\n",
    "\n",
    "#[[ 0  1  2]    [10 20 30]\n",
    "# [ 3  4  5]\n",
    "# [ 6  7  8]\n",
    "# [ 9 10 11]]\n",
    "\n",
    "v3 = np.array([10, 20, 30])\n",
    "\n",
    "Z = data2 + v3\n",
    "print(Z)\n"
   ]
  },
  {
   "cell_type": "code",
   "execution_count": 53,
   "metadata": {},
   "outputs": [
    {
     "name": "stdout",
     "output_type": "stream",
     "text": [
      "[[ 1  5  9 13]\n",
      " [ 2  6 10 14]\n",
      " [ 3  7 11 15]]\n"
     ]
    }
   ],
   "source": [
    "v4 = np.array([1, 2, 3, 4])\n",
    "\n",
    "Z1 = np.transpose(data2) + v4\n",
    "\n",
    "print(Z1)"
   ]
  },
  {
   "cell_type": "code",
   "execution_count": 54,
   "metadata": {},
   "outputs": [],
   "source": [
    "import matplotlib.pyplot as plt\n",
    "import numpy as np"
   ]
  },
  {
   "cell_type": "code",
   "execution_count": 55,
   "metadata": {},
   "outputs": [
    {
     "data": {
      "text/plain": [
       "Text(0.5, 1.0, 'Hello world')"
      ]
     },
     "execution_count": 55,
     "metadata": {},
     "output_type": "execute_result"
    },
    {
     "data": {
      "image/png": "[encoded data removed]",
      "text/plain": [
       "<Figure size 432x288 with 1 Axes>"
      ]
     },
     "metadata": {
      "needs_background": "light"
     },
     "output_type": "display_data"
    }
   ],
   "source": [
    "x = np.array([10, 15, 20])\n",
    "y = np.array([5, 9, 7])\n",
    "\n",
    "plt.plot(x, y, '*')\n",
    "\n",
    "plt.xlabel('x-axis', fontsize = 12)\n",
    "plt.ylabel('y-axis', fontsize = 12)\n",
    "\n",
    "plt.title('Hello world')"
   ]
  },
  {
   "cell_type": "code",
   "execution_count": 56,
   "metadata": {},
   "outputs": [
    {
     "name": "stdout",
     "output_type": "stream",
     "text": [
      "[0 1 2 3 4 5]\n",
      "[20. 26. 32. 38. 44. 50.]\n"
     ]
    },
    {
     "data": {
      "image/png": "[encoded data removed]",
      "text/plain": [
       "<Figure size 432x288 with 1 Axes>"
      ]
     },
     "metadata": {
      "needs_background": "light"
     },
     "output_type": "display_data"
    }
   ],
   "source": [
    "x1 = np.arange(6)\n",
    "print(x1)\n",
    "\n",
    "freq = np.linspace(20, 50, 6)\n",
    "print(freq)\n",
    "\n",
    "ticklabel = ['Ban', 'Ind', 'Pak', 'Sri', 'Mal', 'Nep']\n",
    "plt.bar(x1, freq, tick_label = ticklabel, width = 0.8)\n",
    "\n",
    "plt.xlabel ('x-axis')\n",
    "plt.ylabel('Frequency')\n",
    "\n",
    "plt.title ('Bar chart')\n",
    "\n",
    "plt.show()\n"
   ]
  },
  {
   "cell_type": "code",
   "execution_count": null,
   "metadata": {},
   "outputs": [],
   "source": []
  }
 ],
 "metadata": {
  "kernelspec": {
   "display_name": "Python 3",
   "language": "python",
   "name": "python3"
  },
  "language_info": {
   "codemirror_mode": {
    "name": "ipython",
    "version": 3
   },
   "file_extension": ".py",
   "mimetype": "text/x-python",
   "name": "python",
   "nbconvert_exporter": "python",
   "pygments_lexer": "ipython3",
   "version": "3.7.6"
  }
 },
 "nbformat": 4,
 "nbformat_minor": 4
}
