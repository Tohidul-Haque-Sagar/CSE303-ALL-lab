{
 "cells": [
  {
   "cell_type": "code",
   "execution_count": 1,
   "metadata": {},
   "outputs": [],
   "source": [
    "import pandas as pd"
   ]
  },
  {
   "cell_type": "code",
   "execution_count": 4,
   "metadata": {},
   "outputs": [
    {
     "name": "stdout",
     "output_type": "stream",
     "text": [
      "<class 'pandas.core.frame.DataFrame'>\n",
      "     outlook   temperature   humidity   windy  play\n",
      "0      sunny            85         85   False    no\n",
      "1      sunny            80         90    True    no\n",
      "2   overcast            83         86   False   yes\n",
      "3      rainy            70         96   False   yes\n",
      "4      rainy            68         80   False   yes\n",
      "5      rainy            65         70    True    no\n",
      "6   overcast            64         65    True   yes\n",
      "7      sunny            72         95   False    no\n",
      "8      sunny            69         70   False   yes\n",
      "9      rainy            75         80   False   yes\n",
      "10     sunny            75         70    True   yes\n",
      "11  overcast            72         90    True   yes\n",
      "12  overcast            81         75   False   yes\n",
      "13     rainy            71         91    True    no\n",
      "14     rainy           100         70    True    no\n",
      "15     sunny            45         70    True    no\n"
     ]
    }
   ],
   "source": [
    "df = pd.read_csv('weather.csv')\n",
    "print(type(df))\n",
    "print(df)"
   ]
  },
  {
   "cell_type": "code",
   "execution_count": 5,
   "metadata": {},
   "outputs": [
    {
     "name": "stdout",
     "output_type": "stream",
     "text": [
      "    outlook   temperature   humidity   windy  play\n",
      "0     sunny            85         85   False    no\n",
      "1     sunny            80         90    True    no\n",
      "2  overcast            83         86   False   yes\n",
      "3     rainy            70         96   False   yes\n",
      "4     rainy            68         80   False   yes\n"
     ]
    }
   ],
   "source": [
    "# first 5 records\n",
    "print(df.head())\n"
   ]
  },
  {
   "cell_type": "code",
   "execution_count": 6,
   "metadata": {},
   "outputs": [
    {
     "name": "stdout",
     "output_type": "stream",
     "text": [
      "     outlook   temperature   humidity   windy  play\n",
      "11  overcast            72         90    True   yes\n",
      "12  overcast            81         75   False   yes\n",
      "13     rainy            71         91    True    no\n",
      "14     rainy           100         70    True    no\n",
      "15     sunny            45         70    True    no\n"
     ]
    }
   ],
   "source": [
    "# last 5 records\n",
    "print(df.tail())"
   ]
  },
  {
   "cell_type": "code",
   "execution_count": 7,
   "metadata": {},
   "outputs": [
    {
     "name": "stdout",
     "output_type": "stream",
     "text": [
      "        temperature   humidity\n",
      "count     16.000000   16.00000\n",
      "mean      73.437500   80.18750\n",
      "std       11.764176   10.36802\n",
      "min       45.000000   65.00000\n",
      "25%       68.750000   70.00000\n",
      "50%       72.000000   80.00000\n",
      "75%       80.250000   90.00000\n",
      "max      100.000000   96.00000\n"
     ]
    }
   ],
   "source": [
    "# description of the dataset\n",
    "print(df.describe())\n"
   ]
  },
  {
   "cell_type": "code",
   "execution_count": 8,
   "metadata": {},
   "outputs": [],
   "source": [
    "df.columns = ['outlook','temperature','humidity','windy','play']"
   ]
  },
  {
   "cell_type": "code",
   "execution_count": 9,
   "metadata": {},
   "outputs": [
    {
     "name": "stdout",
     "output_type": "stream",
     "text": [
      "<class 'pandas.core.series.Series'>\n",
      "0      85\n",
      "1      80\n",
      "2      83\n",
      "3      70\n",
      "4      68\n",
      "5      65\n",
      "6      64\n",
      "7      72\n",
      "8      69\n",
      "9      75\n",
      "10     75\n",
      "11     72\n",
      "12     81\n",
      "13     71\n",
      "14    100\n",
      "15     45\n",
      "Name: temperature, dtype: int64\n"
     ]
    }
   ],
   "source": [
    "t = df['temperature']\n",
    "print(type(t))\n",
    "print(t)"
   ]
  },
  {
   "cell_type": "code",
   "execution_count": 10,
   "metadata": {},
   "outputs": [
    {
     "name": "stdout",
     "output_type": "stream",
     "text": [
      "1175\n"
     ]
    }
   ],
   "source": [
    "sum = 0\n",
    "for value in t:\n",
    "    sum+=value\n",
    "print(sum)"
   ]
  },
  {
   "cell_type": "code",
   "execution_count": 11,
   "metadata": {},
   "outputs": [
    {
     "name": "stdout",
     "output_type": "stream",
     "text": [
      "    temperature  humidity\n",
      "0            85        85\n",
      "1            80        90\n",
      "2            83        86\n",
      "3            70        96\n",
      "4            68        80\n",
      "5            65        70\n",
      "6            64        65\n",
      "7            72        95\n",
      "8            69        70\n",
      "9            75        80\n",
      "10           75        70\n",
      "11           72        90\n",
      "12           81        75\n",
      "13           71        91\n",
      "14          100        70\n",
      "15           45        70\n"
     ]
    }
   ],
   "source": [
    "df1 = df[['temperature','humidity']]\n",
    "print(df1)\n"
   ]
  },
  {
   "cell_type": "code",
   "execution_count": 12,
   "metadata": {},
   "outputs": [
    {
     "name": "stdout",
     "output_type": "stream",
     "text": [
      "   temperature  humidity\n",
      "0           85        85\n",
      "1           80        90\n",
      "2           83        86\n",
      "3           70        96\n",
      "4           68        80\n",
      "5           65        70\n",
      "6           64        65\n",
      "7           72        95\n",
      "8           69        70\n",
      "9           75        80\n"
     ]
    }
   ],
   "source": [
    "df2 = df.loc[0:9,['temperature','humidity']]\n",
    "print(df2)"
   ]
  },
  {
   "cell_type": "code",
   "execution_count": 13,
   "metadata": {},
   "outputs": [
    {
     "name": "stdout",
     "output_type": "stream",
     "text": [
      "   temperature  humidity\n",
      "0           85        85\n",
      "1           80        90\n",
      "2           83        86\n",
      "3           70        96\n",
      "4           68        80\n",
      "5           65        70\n",
      "6           64        65\n",
      "7           72        95\n",
      "8           69        70\n",
      "9           75        80\n"
     ]
    }
   ],
   "source": [
    "df3 = df.iloc[0:10,[1,2]]\n",
    "print(df3)"
   ]
  },
  {
   "cell_type": "code",
   "execution_count": 14,
   "metadata": {},
   "outputs": [
    {
     "name": "stdout",
     "output_type": "stream",
     "text": [
      "     outlook  temperature  windy\n",
      "1      sunny           80   True\n",
      "3      rainy           70  False\n",
      "5      rainy           65   True\n",
      "7      sunny           72  False\n",
      "9      rainy           75  False\n",
      "11  overcast           72   True\n",
      "13     rainy           71   True\n",
      "15     sunny           45   True\n"
     ]
    }
   ],
   "source": [
    "# for all odd-numbered index, display outlook, temperature\n",
    "# and windy column values\n",
    "\n",
    "df4 = df.iloc[1::2,[0,1,3]]\n",
    "print(df4)"
   ]
  },
  {
   "cell_type": "code",
   "execution_count": 15,
   "metadata": {},
   "outputs": [
    {
     "name": "stdout",
     "output_type": "stream",
     "text": [
      "Mean:  temperature    73.4375\n",
      "dtype: float64\n",
      "Standard Deviation:  temperature    11.764176\n",
      "dtype: float64\n",
      "Variance:  temperature    138.395833\n",
      "dtype: float64\n",
      "Lower Quartile:  temperature    68.75\n",
      "Name: 0.25, dtype: float64\n",
      "Median:  temperature    72.0\n",
      "Name: 0.5, dtype: float64\n",
      "Median:  temperature    72.0\n",
      "dtype: float64\n",
      "Upper Quartile:  temperature    80.25\n",
      "Name: 0.75, dtype: float64\n",
      "Skewness:  temperature   -0.13398\n",
      "dtype: float64\n",
      "Kurtosis:  temperature    2.521107\n",
      "dtype: float64\n",
      "Min:  temperature    45\n",
      "dtype: int64\n",
      "Max:  temperature    100\n",
      "dtype: int64\n"
     ]
    }
   ],
   "source": [
    "# all statistical measures over temperature column\n",
    "temperature = df[['temperature']]\n",
    "\n",
    "print(\"Mean: \" , temperature.mean())\n",
    "print(\"Standard Deviation: \", temperature.std())\n",
    "print(\"Variance: \", temperature.var())\n",
    "print(\"Lower Quartile: \" , temperature.quantile(0.25))\n",
    "print(\"Median: \", temperature.quantile(0.5))\n",
    "print(\"Median: \" , temperature.median())\n",
    "print(\"Upper Quartile: \" , temperature.quantile(0.75))\n",
    "print(\"Skewness: \" , temperature.skew())\n",
    "print(\"Kurtosis: \" , temperature.kurt())\n",
    "print(\"Min: \", temperature.min())\n",
    "print(\"Max: \", temperature.max())"
   ]
  },
  {
   "cell_type": "code",
   "execution_count": 16,
   "metadata": {},
   "outputs": [
    {
     "data": {
      "text/plain": [
       "array([[<matplotlib.axes._subplots.AxesSubplot object at 0x000001BC7912B9C8>]],\n",
       "      dtype=object)"
      ]
     },
     "execution_count": 16,
     "metadata": {},
     "output_type": "execute_result"
    },
    {
     "data": {
      "image/png": "[encoded data removed]",
      "text/plain": [
       "<Figure size 432x288 with 1 Axes>"
      ]
     },
     "metadata": {
      "needs_background": "light"
     },
     "output_type": "display_data"
    }
   ],
   "source": [
    "df.hist(column=['temperature'], bins = 5)"
   ]
  },
  {
   "cell_type": "code",
   "execution_count": 17,
   "metadata": {},
   "outputs": [
    {
     "data": {
      "text/plain": [
       "array([[<matplotlib.axes._subplots.AxesSubplot object at 0x000001BC78DDDDC8>]],\n",
       "      dtype=object)"
      ]
     },
     "execution_count": 17,
     "metadata": {},
     "output_type": "execute_result"
    },
    {
     "data": {
      "image/png": "[encoded data removed]",
      "text/plain": [
       "<Figure size 432x288 with 1 Axes>"
      ]
     },
     "metadata": {
      "needs_background": "light"
     },
     "output_type": "display_data"
    }
   ],
   "source": [
    "df.hist(column='humidity', bins = 5)\n"
   ]
  },
  {
   "cell_type": "code",
   "execution_count": 18,
   "metadata": {},
   "outputs": [
    {
     "name": "stdout",
     "output_type": "stream",
     "text": [
      "Mean:  humidity    80.1875\n",
      "dtype: float64\n",
      "Standard Deviation:  humidity    10.36802\n",
      "dtype: float64\n",
      "Variance:  humidity    107.495833\n",
      "dtype: float64\n",
      "Lower Quartile:  humidity    70.0\n",
      "Name: 0.25, dtype: float64\n",
      "Median:  humidity    80.0\n",
      "Name: 0.5, dtype: float64\n",
      "Median:  humidity    80.0\n",
      "dtype: float64\n",
      "Upper Quartile:  humidity    90.0\n",
      "Name: 0.75, dtype: float64\n",
      "Skewness:  humidity    0.118669\n",
      "dtype: float64\n",
      "Kurtosis:  humidity   -1.533119\n",
      "dtype: float64\n",
      "Min:  humidity    65\n",
      "dtype: int64\n",
      "Max:  humidity    96\n",
      "dtype: int64\n"
     ]
    }
   ],
   "source": [
    "humidity = df[['humidity']]\n",
    "print(\"Mean: \" , humidity.mean())\n",
    "print(\"Standard Deviation: \", humidity.std())\n",
    "print(\"Variance: \", humidity.var())\n",
    "print(\"Lower Quartile: \" , humidity.quantile(0.25))\n",
    "print(\"Median: \", humidity.quantile(0.5))\n",
    "print(\"Median: \" , humidity.median())\n",
    "print(\"Upper Quartile: \" , humidity.quantile(0.75))\n",
    "print(\"Skewness: \" , humidity.skew())\n",
    "print(\"Kurtosis: \" , humidity.kurt())\n",
    "print(\"Min: \", humidity.min())\n",
    "print(\"Max: \", humidity.max())"
   ]
  },
  {
   "cell_type": "code",
   "execution_count": 19,
   "metadata": {},
   "outputs": [
    {
     "name": "stdout",
     "output_type": "stream",
     "text": [
      "[[1, 0], [1, 1], [2, 2], [2, 3], [2, 3], [2, 4], [3, 4], [3, 5], [4, 6], [5, 7]]\n"
     ]
    }
   ],
   "source": [
    "list1 = [[1,0], [1,1], [2,2], [2,3], [2,3], \n",
    "         [2,4], [3,4], [3,5], [4,6], [5,7]]\n",
    "print(list1)\n"
   ]
  },
  {
   "cell_type": "code",
   "execution_count": 20,
   "metadata": {},
   "outputs": [
    {
     "name": "stdout",
     "output_type": "stream",
     "text": [
      "   x  y\n",
      "0  1  0\n",
      "1  1  1\n",
      "2  2  2\n",
      "3  2  3\n",
      "4  2  3\n",
      "5  2  4\n",
      "6  3  4\n",
      "7  3  5\n",
      "8  4  6\n",
      "9  5  7\n"
     ]
    }
   ],
   "source": [
    "df_list1 = pd.DataFrame(list1, columns = ['x','y'])\n",
    "print(df_list1)"
   ]
  },
  {
   "cell_type": "code",
   "execution_count": 21,
   "metadata": {},
   "outputs": [
    {
     "data": {
      "text/plain": [
       "array([[<matplotlib.axes._subplots.AxesSubplot object at 0x000001BC7852B3C8>]],\n",
       "      dtype=object)"
      ]
     },
     "execution_count": 21,
     "metadata": {},
     "output_type": "execute_result"
    },
    {
     "data": {
      "image/png": "[encoded data removed]",
      "text/plain": [
       "<Figure size 432x288 with 1 Axes>"
      ]
     },
     "metadata": {
      "needs_background": "light"
     },
     "output_type": "display_data"
    }
   ],
   "source": [
    "df_list1.hist(column = ['x'], bins = 5)"
   ]
  },
  {
   "cell_type": "code",
   "execution_count": 22,
   "metadata": {},
   "outputs": [
    {
     "name": "stdout",
     "output_type": "stream",
     "text": [
      "Skew:  x    0.815005\n",
      "dtype: float64\n"
     ]
    }
   ],
   "source": [
    "print('Skew: ', df_list1[['x']].skew())\n"
   ]
  },
  {
   "cell_type": "code",
   "execution_count": 23,
   "metadata": {},
   "outputs": [
    {
     "data": {
      "text/plain": [
       "array([[<matplotlib.axes._subplots.AxesSubplot object at 0x000001BC79AED748>]],\n",
       "      dtype=object)"
      ]
     },
     "execution_count": 23,
     "metadata": {},
     "output_type": "execute_result"
    },
    {
     "data": {
      "image/png": "[encoded data removed]",
      "text/plain": [
       "<Figure size 432x288 with 1 Axes>"
      ]
     },
     "metadata": {
      "needs_background": "light"
     },
     "output_type": "display_data"
    }
   ],
   "source": [
    "df_list1.hist(column = ['y'], bins = 8)\n"
   ]
  },
  {
   "cell_type": "code",
   "execution_count": 24,
   "metadata": {},
   "outputs": [
    {
     "name": "stdout",
     "output_type": "stream",
     "text": [
      "Skew:  y    0.0\n",
      "dtype: float64\n"
     ]
    }
   ],
   "source": [
    "print('Skew: ', df_list1[['y']].skew())"
   ]
  },
  {
   "cell_type": "code",
   "execution_count": 25,
   "metadata": {},
   "outputs": [
    {
     "name": "stdout",
     "output_type": "stream",
     "text": [
      "Kurt - X:  x    0.25378\n",
      "dtype: float64\n",
      "Kurt - Y:  y   -0.53564\n",
      "dtype: float64\n"
     ]
    }
   ],
   "source": [
    "print('Kurt - X: ', df_list1[['x']].kurt())\n",
    "print('Kurt - Y: ', df_list1[['y']].kurt())"
   ]
  },
  {
   "cell_type": "code",
   "execution_count": 26,
   "metadata": {},
   "outputs": [
    {
     "data": {
      "text/plain": [
       "<matplotlib.axes._subplots.AxesSubplot at 0x1bc79ad4f48>"
      ]
     },
     "execution_count": 26,
     "metadata": {},
     "output_type": "execute_result"
    },
    {
     "data": {
      "image/png": "[encoded data removed]",
      "text/plain": [
       "<Figure size 432x288 with 1 Axes>"
      ]
     },
     "metadata": {
      "needs_background": "light"
     },
     "output_type": "display_data"
    }
   ],
   "source": [
    "df_list1.plot.scatter(x = \"x\", y = \"y\")"
   ]
  },
  {
   "cell_type": "code",
   "execution_count": 27,
   "metadata": {},
   "outputs": [
    {
     "data": {
      "text/plain": [
       "<matplotlib.axes._subplots.AxesSubplot at 0x1bc79adcec8>"
      ]
     },
     "execution_count": 27,
     "metadata": {},
     "output_type": "execute_result"
    },
    {
     "data": {
      "image/png": "[encoded data removed]",
      "text/plain": [
       "<Figure size 432x288 with 1 Axes>"
      ]
     },
     "metadata": {
      "needs_background": "light"
     },
     "output_type": "display_data"
    }
   ],
   "source": [
    "df_list1.boxplot(column = ['x', 'y'])"
   ]
  },
  {
   "cell_type": "markdown",
   "metadata": {},
   "source": [
    "###LAB(HANDOUT)"
   ]
  },
  {
   "cell_type": "code",
   "execution_count": 28,
   "metadata": {},
   "outputs": [],
   "source": [
    "import pandas as pd"
   ]
  },
  {
   "cell_type": "code",
   "execution_count": 29,
   "metadata": {},
   "outputs": [],
   "source": [
    "obj = pd.Series([4, 7, -5, 3])"
   ]
  },
  {
   "cell_type": "code",
   "execution_count": 31,
   "metadata": {},
   "outputs": [
    {
     "data": {
      "text/plain": [
       "0    4\n",
       "dtype: int64"
      ]
     },
     "execution_count": 31,
     "metadata": {},
     "output_type": "execute_result"
    }
   ],
   "source": [
    "#Filtering data:\n",
    "obj[obj%2==0]"
   ]
  },
  {
   "cell_type": "code",
   "execution_count": 32,
   "metadata": {},
   "outputs": [
    {
     "data": {
      "text/plain": [
       "(0     9\n",
       " 1    12\n",
       " 2     0\n",
       " 3     8\n",
       " dtype: int64,\n",
       " 0     8\n",
       " 1    14\n",
       " 2   -10\n",
       " 3     6\n",
       " dtype: int64)"
      ]
     },
     "execution_count": 32,
     "metadata": {},
     "output_type": "execute_result"
    }
   ],
   "source": [
    "#Scalar Operations: \n",
    "obj+5, obj * 2"
   ]
  },
  {
   "cell_type": "code",
   "execution_count": 33,
   "metadata": {},
   "outputs": [
    {
     "name": "stdout",
     "output_type": "stream",
     "text": [
      "Ohio      35000\n",
      "Texas     71000\n",
      "Oregon    16000\n",
      "Utah       5000\n",
      "dtype: int64\n"
     ]
    }
   ],
   "source": [
    "#Creating a Series from a Dictionary\n",
    "sdata = {'Ohio': 35000, 'Texas': 71000, 'Oregon': 16000,\n",
    "'Utah': 5000}\n",
    "obj3 = pd.Series(sdata)\n",
    "print(obj3)"
   ]
  },
  {
   "cell_type": "code",
   "execution_count": 34,
   "metadata": {},
   "outputs": [
    {
     "name": "stdout",
     "output_type": "stream",
     "text": [
      "      name  age  cgpa  hoursStudied\n",
      "0    Alice   23   3.5            10\n",
      "1      Bob   24   3.4             6\n",
      "2  Charlie   22   3.9             8\n"
     ]
    }
   ],
   "source": [
    "#Constructing Pandas DataFrame:\n",
    "#From List\n",
    "list1 = [['Alice',23,3.5,10],['Bob',24,3.4,6],['Charlie',22,3.9,8]]\n",
    "df = pd.DataFrame(list1)\n",
    "df.columns = ['name','age','cgpa','hoursStudied']\n",
    "print(df.head())"
   ]
  },
  {
   "cell_type": "code",
   "execution_count": 35,
   "metadata": {},
   "outputs": [
    {
     "name": "stdout",
     "output_type": "stream",
     "text": [
      "   id     name  age\n",
      "0   1    alice   20\n",
      "1   2      bob   25\n",
      "2   3  charlie   32\n"
     ]
    }
   ],
   "source": [
    "dict1 = {'id':[1,2,3],'name':['alice','bob','charlie'],\n",
    "'age':[20, 25, 32]}\n",
    "df1 = pd.DataFrame(dict1)\n",
    "print(df1)"
   ]
  },
  {
   "cell_type": "code",
   "execution_count": 38,
   "metadata": {},
   "outputs": [
    {
     "name": "stdout",
     "output_type": "stream",
     "text": [
      "   id        state  population  murder_rate\n",
      "0   1      Alabama     4779736          5.7\n",
      "1   2       Alaska      710231          5.6\n",
      "2   3      Arizona     6392017          4.7\n",
      "3   4     Arkansas     2915918          5.6\n",
      "4   5   California    37253956          4.4\n",
      "5   6     Colorado     5029196          2.8\n",
      "6   7  Connecticut     3574097          2.4\n",
      "7   8     Delaware      897934          5.8\n"
     ]
    },
    {
     "data": {
      "text/plain": [
       "id             8\n",
       "state          8\n",
       "population     8\n",
       "murder_rate    8\n",
       "dtype: int64"
      ]
     },
     "execution_count": 38,
     "metadata": {},
     "output_type": "execute_result"
    }
   ],
   "source": [
    "#From CSV File\n",
    "df2 = pd.read_csv('sample_data_1.csv', header = None)\n",
    "df2.columns=['id','state','population','murder_rate']\n",
    "print(df2)\n",
    "df2.head() # displays first 5 rows\n",
    "df2.tail() # displays last 5 rows\n",
    "df2.count() # displays number of values for each column"
   ]
  },
  {
   "cell_type": "code",
   "execution_count": 39,
   "metadata": {},
   "outputs": [
    {
     "name": "stdout",
     "output_type": "stream",
     "text": [
      "1\n",
      "alice\n"
     ]
    }
   ],
   "source": [
    "#Seleting the first cell\n",
    "print(df1.iloc[0][0])\n",
    "print(df1.loc[0]['name'])"
   ]
  },
  {
   "cell_type": "code",
   "execution_count": 46,
   "metadata": {},
   "outputs": [
    {
     "name": "stdout",
     "output_type": "stream",
     "text": [
      "      name  cgpa\n",
      "0    Alice   3.5\n",
      "1      Bob   3.4\n",
      "2  Charlie   3.9\n"
     ]
    }
   ],
   "source": [
    "#Selecting a few columns\n",
    "df3=df[['name','cgpa']]\n",
    "print(df3)"
   ]
  },
  {
   "cell_type": "code",
   "execution_count": 47,
   "metadata": {},
   "outputs": [
    {
     "name": "stdout",
     "output_type": "stream",
     "text": [
      "   id     name  age\n",
      "1   2      bob   25\n",
      "2   3  charlie   32\n",
      "   id     name  age\n",
      "1   2      bob   25\n",
      "2   3  charlie   32\n"
     ]
    }
   ],
   "source": [
    "#selecting a few rows\n",
    "df4 = df1.loc[1:2]\n",
    "print(df4)\n",
    "df5 = df1.iloc[1:3]\n",
    "print(df5)"
   ]
  },
  {
   "cell_type": "code",
   "execution_count": 48,
   "metadata": {},
   "outputs": [
    {
     "name": "stdout",
     "output_type": "stream",
     "text": [
      "      name  age\n",
      "1      bob   25\n",
      "2  charlie   32\n",
      "   id     name\n",
      "1   2      bob\n",
      "2   3  charlie\n"
     ]
    }
   ],
   "source": [
    "#selecting a few rows and columns\n",
    "df4 = df1.loc[1:2,['name','age']]\n",
    "print(df4)\n",
    "df5 = df1.iloc[1:3,[0,1]]\n",
    "print(df5)"
   ]
  },
  {
   "cell_type": "code",
   "execution_count": 49,
   "metadata": {},
   "outputs": [
    {
     "name": "stdout",
     "output_type": "stream",
     "text": [
      "      name  age  cgpa  hoursStudied\n",
      "0    Alice   23  3.50            10\n",
      "1      Bob   24  3.40             6\n",
      "2  Charlie   22  3.90             8\n",
      "3      Don   21  2.50             2\n",
      "4    Elton   25  2.75             4\n"
     ]
    }
   ],
   "source": [
    "list1 = [['Alice',23,3.5,10],['Bob',24,3.4,6],['Charlie',22,3.9,8]]\n",
    "df = pd.DataFrame(list1)\n",
    "df.columns = ['name','age','cgpa','hoursStudied']\n",
    "list2 = [['Don',21,2.5,2],['Elton',25,2.75,4]]\n",
    "df11 = pd.DataFrame(list2)\n",
    "df11.columns = ['name','age','cgpa','hoursStudied']\n",
    "df12 = df.append(df11, ignore_index=True)\n",
    "print(df12)"
   ]
  },
  {
   "cell_type": "code",
   "execution_count": 59,
   "metadata": {},
   "outputs": [
    {
     "name": "stdout",
     "output_type": "stream",
     "text": [
      "      name  age  cgpa  hoursStudied\n",
      "2  Charlie   22   3.9             8\n",
      "      name  age  cgpa  hoursStudied\n",
      "2  Charlie   22   3.9             8\n",
      "      name  age  cgpa  hoursStudied\n",
      "2  Charlie   22   3.9             8\n",
      "         n   a  hs\n",
      "2  Charlie  22   8\n",
      "3      Don  21   2\n",
      "4    Elton  25   4\n"
     ]
    }
   ],
   "source": [
    "#deleting rows/columns from a dataframe\n",
    "print(cgpa_greater_than_three_point_five1)\n",
    "print(cgpa_greater_than_three_point_five2)\n",
    "print(cgpa_greater_than_three_point_five3)\n",
    "df1.sort_values(by='age',ascending=False)#Renaming columns\n",
    "new_cols = ['n','a','hs']\n",
    "df12.columns=new_cols\n",
    "print(df12)"
   ]
  },
  {
   "cell_type": "code",
   "execution_count": 58,
   "metadata": {},
   "outputs": [
    {
     "name": "stdout",
     "output_type": "stream",
     "text": [
      "      name  age  cgpa  hoursStudied\n",
      "2  Charlie   22   3.9             8\n",
      "      name  age  cgpa  hoursStudied\n",
      "2  Charlie   22   3.9             8\n",
      "      name  age  cgpa  hoursStudied\n",
      "2  Charlie   22   3.9             8\n"
     ]
    },
    {
     "data": {
      "text/html": [
       "<div>\n",
       "<style scoped>\n",
       "    .dataframe tbody tr th:only-of-type {\n",
       "        vertical-align: middle;\n",
       "    }\n",
       "\n",
       "    .dataframe tbody tr th {\n",
       "        vertical-align: top;\n",
       "    }\n",
       "\n",
       "    .dataframe thead th {\n",
       "        text-align: right;\n",
       "    }\n",
       "</style>\n",
       "<table border=\"1\" class=\"dataframe\">\n",
       "  <thead>\n",
       "    <tr style=\"text-align: right;\">\n",
       "      <th></th>\n",
       "      <th>name</th>\n",
       "      <th>age</th>\n",
       "      <th>cgpa</th>\n",
       "      <th>hoursStudied</th>\n",
       "    </tr>\n",
       "  </thead>\n",
       "  <tbody>\n",
       "    <tr>\n",
       "      <th>1</th>\n",
       "      <td>Bob</td>\n",
       "      <td>24</td>\n",
       "      <td>3.4</td>\n",
       "      <td>6</td>\n",
       "    </tr>\n",
       "    <tr>\n",
       "      <th>0</th>\n",
       "      <td>Alice</td>\n",
       "      <td>23</td>\n",
       "      <td>3.5</td>\n",
       "      <td>10</td>\n",
       "    </tr>\n",
       "    <tr>\n",
       "      <th>2</th>\n",
       "      <td>Charlie</td>\n",
       "      <td>22</td>\n",
       "      <td>3.9</td>\n",
       "      <td>8</td>\n",
       "    </tr>\n",
       "  </tbody>\n",
       "</table>\n",
       "</div>"
      ],
      "text/plain": [
       "      name  age  cgpa  hoursStudied\n",
       "1      Bob   24   3.4             6\n",
       "0    Alice   23   3.5            10\n",
       "2  Charlie   22   3.9             8"
      ]
     },
     "execution_count": 58,
     "metadata": {},
     "output_type": "execute_result"
    }
   ],
   "source": [
    "#Data Filtering, Sorting\n",
    "cgpa_greater_than_three_point_five1 = df[df['cgpa'] > 3.5]\n",
    "cgpa_greater_than_three_point_five2 = df.loc[df['cgpa'] > 3.5]\n",
    "cgpa_greater_than_three_point_five3 = df.query('cgpa > 3.5')\n",
    "print(cgpa_greater_than_three_point_five1)\n",
    "print(cgpa_greater_than_three_point_five2)\n",
    "print(cgpa_greater_than_three_point_five3)\n",
    "df.sort_values(by='age',ascending=False)"
   ]
  },
  {
   "cell_type": "code",
   "execution_count": null,
   "metadata": {},
   "outputs": [],
   "source": [
    "1. Boxplot\n",
    "df.boxplot(column=['col_name_1','col_name_2'])\n",
    "2. Histogram\n",
    "df.hist(column = [‘col_name’], bins= 5)\n",
    "3. Bar Chart\n",
    "df['col_name'].value_counts().plot(kind = 'bar')\n",
    "4. Pie Chart\n",
    "df['col_name'].value_counts().plot(kind = 'pie')\n",
    "5. Scatter Plot\n",
    "df.plot.scatter(x='col_name_1',y='col_name_2')"
   ]
  }
 ],
 "metadata": {
  "kernelspec": {
   "display_name": "Python 3",
   "language": "python",
   "name": "python3"
  },
  "language_info": {
   "codemirror_mode": {
    "name": "ipython",
    "version": 3
   },
   "file_extension": ".py",
   "mimetype": "text/x-python",
   "name": "python",
   "nbconvert_exporter": "python",
   "pygments_lexer": "ipython3",
   "version": "3.7.6"
  }
 },
 "nbformat": 4,
 "nbformat_minor": 4
}
